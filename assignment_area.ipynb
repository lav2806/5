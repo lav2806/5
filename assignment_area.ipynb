{
  "nbformat": 4,
  "nbformat_minor": 0,
  "metadata": {
    "colab": {
      "name": "assignment_area.ipynb",
      "provenance": []
    },
    "kernelspec": {
      "name": "python3",
      "display_name": "Python 3"
    }
  },
  "cells": [
    {
      "cell_type": "code",
      "metadata": {
        "id": "1AyIAVahJvUQ",
        "colab_type": "code",
        "colab": {
          "base_uri": "https://localhost:8080/",
          "height": 54
        },
        "outputId": "4f218de8-627b-4d8a-c394-130586faac1c"
      },
      "source": [
        "def findArea(r): \n",
        "    PI = 3.142\n",
        "    return PI * (r*r); \n",
        "i=int(input(\"enter the radius\")) \n",
        "print(\"Area is %.6f\" % findArea(i)); \n",
        "  "
      ],
      "execution_count": 1,
      "outputs": [
        {
          "output_type": "stream",
          "text": [
            "enter the radius3\n",
            "Area is 28.278000\n"
          ],
          "name": "stdout"
        }
      ]
    }
  ]
}